{
 "cells": [
  {
   "cell_type": "code",
   "execution_count": 9,
   "id": "0f6347a2-9372-43e9-b8d9-1c8d5e163965",
   "metadata": {},
   "outputs": [
    {
     "name": "stdin",
     "output_type": "stream",
     "text": [
      "Enter the number of digits of precision for pi:  100\n"
     ]
    },
    {
     "name": "stdout",
     "output_type": "stream",
     "text": [
      "Approximation of pi with 100 digits of precision: 3.141592653589793\n"
     ]
    }
   ],
   "source": [
    "import math\n",
    "\n",
    "def factorial(n):\n",
    "    if n == 0:\n",
    "        return 1\n",
    "    result = 1\n",
    "    for i in range(1, n + 1):\n",
    "        result *= i\n",
    "    return result\n",
    "\n",
    "def compute_pi(digits):\n",
    "    pi = 0\n",
    "    C = (2 * math.sqrt(2)) / 9801\n",
    "    iterations = math.ceil(digits / 14) + 1  # Approximation for number of iterations\n",
    "\n",
    "    for k in range(iterations):\n",
    "        # Multinomial term, Mk = (4k)! / (k!)^4\n",
    "        Mk = factorial(4 * k) / (factorial(k) ** 4)\n",
    "\n",
    "        # Linear term, Lk = 1103 + 26390k\n",
    "        Lk = 1103 + 26390 * k\n",
    "\n",
    "        # Exponential term, Xk = 396^(4k)\n",
    "        Xk = 396 ** (4 * k)\n",
    "\n",
    "        # Pi series partial summation.\n",
    "        pi += Mk * Lk / Xk\n",
    "\n",
    "    # Multiply by constant and take reciprocal.\n",
    "    pi = 1 / (C * pi)\n",
    "\n",
    "    return pi\n",
    "\n",
    "# Input function to take the number of digits as input\n",
    "def get_digits():\n",
    "    while True:\n",
    "        try:\n",
    "            digits = int(input(\"Enter the number of digits of precision for pi: \"))\n",
    "            if digits <= 0:\n",
    "                print(\"Please enter a positive integer.\")\n",
    "                continue\n",
    "            break\n",
    "        except ValueError:\n",
    "            print(\"Invalid input. Please enter a valid integer.\")\n",
    "    return digits\n",
    "\n",
    "digits = get_digits()\n",
    "pi_approximation = compute_pi(digits)\n",
    "print(\"Approximation of pi with\", digits, \"digits of precision:\", pi_approximation)\n"
   ]
  },
  {
   "cell_type": "code",
   "execution_count": null,
   "id": "688bd3d0-d075-4824-aea5-d4a79771dd2c",
   "metadata": {},
   "outputs": [],
   "source": []
  }
 ],
 "metadata": {
  "kernelspec": {
   "display_name": "Python 3 (ipykernel)",
   "language": "python",
   "name": "python3"
  },
  "language_info": {
   "codemirror_mode": {
    "name": "ipython",
    "version": 3
   },
   "file_extension": ".py",
   "mimetype": "text/x-python",
   "name": "python",
   "nbconvert_exporter": "python",
   "pygments_lexer": "ipython3",
   "version": "3.11.7"
  }
 },
 "nbformat": 4,
 "nbformat_minor": 5
}
