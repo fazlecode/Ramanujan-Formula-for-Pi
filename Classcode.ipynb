{
 "cells": [
  {
   "cell_type": "code",
   "execution_count": 19,
   "id": "3ea25be6-1ce3-4cf5-97c8-2cf95e2faf53",
   "metadata": {},
   "outputs": [
    {
     "name": "stdin",
     "output_type": "stream",
     "text": [
      "\n",
      "Enter Upper Limit for Pi e.g. 100:  0\n"
     ]
    },
    {
     "name": "stdout",
     "output_type": "stream",
     "text": [
      "\n",
      "The value of a1: 0.00028859\n",
      "The value of a2: 1\n",
      "The value of a3: 1103\n",
      "The value of a4: 1.0\n",
      "The value of a5: 1.0\n",
      "\n",
      "Approximation of pi using Ramanujan's formula: 3.1415927300133055\n"
     ]
    },
    {
     "name": "stdin",
     "output_type": "stream",
     "text": [
      "\n",
      "Enter Upper Limit for Pi e.g. 100:  \n"
     ]
    },
    {
     "ename": "ValueError",
     "evalue": "invalid literal for int() with base 10: ''",
     "output_type": "error",
     "traceback": [
      "\u001b[1;31m---------------------------------------------------------------------------\u001b[0m",
      "\u001b[1;31mValueError\u001b[0m                                Traceback (most recent call last)",
      "Cell \u001b[1;32mIn[19], line 38\u001b[0m\n\u001b[0;32m     35\u001b[0m     \u001b[38;5;28;01mreturn\u001b[39;00m \u001b[38;5;28msum\u001b[39m\n\u001b[0;32m     37\u001b[0m \u001b[38;5;28;01mwhile\u001b[39;00m \u001b[38;5;28;01mTrue\u001b[39;00m:\n\u001b[1;32m---> 38\u001b[0m     limit \u001b[38;5;241m=\u001b[39m \u001b[38;5;28mint\u001b[39m(\u001b[38;5;28minput\u001b[39m(\u001b[38;5;124m\"\u001b[39m\u001b[38;5;130;01m\\n\u001b[39;00m\u001b[38;5;124mEnter Upper Limit for Pi e.g. 100: \u001b[39m\u001b[38;5;124m\"\u001b[39m))\n\u001b[0;32m     39\u001b[0m     a1 \u001b[38;5;241m=\u001b[39m compute1()\n\u001b[0;32m     40\u001b[0m     a2 \u001b[38;5;241m=\u001b[39m compute2(limit)\n",
      "\u001b[1;31mValueError\u001b[0m: invalid literal for int() with base 10: ''"
     ]
    }
   ],
   "source": [
    "import math\n",
    "\n",
    "def fact(n):\n",
    "    result = 1 \n",
    "    while n > 0:\n",
    "        result *= n \n",
    "        n -= 1 \n",
    "    return result \n",
    "\n",
    "def compute1():\n",
    "    return  (2 * math.sqrt(2)) / 9801\n",
    "\n",
    "def compute2(lm):\n",
    "    sum = 0 \n",
    "    for n in range(lm+1):\n",
    "        sum += fact((4*n))\n",
    "    return sum \n",
    "\n",
    "def compute3(lm):\n",
    "    sum = 0\n",
    "    for n in range(lm+1):\n",
    "        sum += 1103 + 26390*n\n",
    "    return sum\n",
    "\n",
    "def compute4(lm):\n",
    "    sum = 0 \n",
    "    for n in range(lm+1):\n",
    "        sum += math.pow(fact(n),4)\n",
    "    return sum\n",
    "\n",
    "def compute5(lm):\n",
    "    sum = 0\n",
    "    for n in range(lm+1):\n",
    "        sum += math.pow(396, 4*n)\n",
    "    return sum\n",
    "\n",
    "while True:\n",
    "    limit = int(input(\"\\nEnter Upper Limit for Pi e.g. 100: \"))\n",
    "    a1 = compute1()\n",
    "    a2 = compute2(limit)\n",
    "    a3 = compute3(limit)\n",
    "    a4 = compute4(limit)\n",
    "    a5 = compute5(limit)\n",
    "    \n",
    "    pi_approx = 1 / (a1 * ((a2 * a3) / (a4 * a5)))\n",
    "\n",
    "    \n",
    "    print(\"\\nThe value of a1:\", round(a1, 8))\n",
    "    print(\"The value of a2:\", round(a2, 8))\n",
    "    print(\"The value of a3:\", a3)\n",
    "    print(\"The value of a4:\", round(a4, 8))\n",
    "    print(\"The value of a5:\", a5)\n",
    "    \n",
    "    print(\"\\nApproximation of pi using Ramanujan's formula:\", pi_approx)\n"
   ]
  }
 ],
 "metadata": {
  "kernelspec": {
   "display_name": "Python 3 (ipykernel)",
   "language": "python",
   "name": "python3"
  },
  "language_info": {
   "codemirror_mode": {
    "name": "ipython",
    "version": 3
   },
   "file_extension": ".py",
   "mimetype": "text/x-python",
   "name": "python",
   "nbconvert_exporter": "python",
   "pygments_lexer": "ipython3",
   "version": "3.11.7"
  }
 },
 "nbformat": 4,
 "nbformat_minor": 5
}
